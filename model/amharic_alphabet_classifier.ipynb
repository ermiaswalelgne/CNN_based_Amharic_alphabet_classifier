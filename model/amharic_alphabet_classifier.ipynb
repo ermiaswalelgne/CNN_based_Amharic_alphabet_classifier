{
 "cells": [
  {
   "cell_type": "markdown",
   "metadata": {},
   "source": [
    "#### Import the nessarly liberaris liberaries "
   ]
  },
  {
   "cell_type": "code",
   "execution_count": null,
   "metadata": {},
   "outputs": [],
   "source": [
    "import numpy as np\n",
    "import os \n",
    "from matplotlib import pyplot as plt\n",
    "import cv2\n",
    "import random\n",
    "import pickle\n",
    "\n",
    "import tensorflow as tf \n",
    "from tensorflow.keras.models import Sequential\n",
    "from tensorflow.keras.layers import Dense, Dropout, Activation, Flatten, Conv2D, MaxPooling2D\n",
    "import pickle\n",
    "from keras.models import model_from_json\n",
    "from keras.models import load_model\n",
    "import matplotlib.pyplot as plt\n",
    "\n",
    "from IPython.display import Image\n"
   ]
  },
  {
   "cell_type": "markdown",
   "metadata": {},
   "source": [
    "#### Tetch the training image data"
   ]
  },
  {
   "cell_type": "code",
   "execution_count": null,
   "metadata": {},
   "outputs": [],
   "source": [
    "\n",
    "\n",
    "file_list = []\n",
    "class_list = []\n",
    "\n",
    "DATADIR = \"../data/train/train_letter_data\"\n",
    "\n",
    "# We can list all the categories we want to identify in our neural network here\n",
    "# In our case we only have three alphabets to detect\n",
    "CATEGORIES = [\"ha\", \"le\", \"me\"]\n",
    "\n",
    "# Let us fix he size of the images that the neural network will use\n",
    "IMG_SIZE = 50\n",
    "\n",
    "# Checking  all images in the data folder\n",
    "for category in CATEGORIES:\n",
    "    path = os.path.join(DATADIR, category)\n",
    "    for img in os.listdir(path):\n",
    "        #print(img)\n",
    "        img_array = cv2.imread(os.path.join(path, img), \n",
    "                               cv2.IMREAD_GRAYSCALE)\n",
    "training_data = []\n"
   ]
  },
  {
   "cell_type": "code",
   "execution_count": null,
   "metadata": {},
   "outputs": [],
   "source": [
    "DATADIR = \"../data/validation/validate_letter_data/me\"\n",
    "img= \"me15.jpg\" \n",
    "confused_img = os.path.join(DATADIR, img)\n",
    "Image(filename=confused_img) "
   ]
  },
  {
   "cell_type": "markdown",
   "metadata": {},
   "source": [
    "#### Pepare the image data for training\n"
   ]
  },
  {
   "cell_type": "code",
   "execution_count": 3,
   "metadata": {},
   "outputs": [],
   "source": [
    "def create_training_data():\n",
    "    for category in CATEGORIES :\n",
    "        path = os.path.join(DATADIR, category)\n",
    "        class_num = CATEGORIES.index(category)\n",
    "        for img in os.listdir(path):\n",
    "            if img.endswith(\".DS_Store\"):\n",
    "                pass\n",
    "            else:\n",
    "                try :\n",
    "                    img_array = cv2.imread(os.path.join(path, img), cv2.IMREAD_GRAYSCALE)\n",
    "                    new_array = cv2.resize(img_array, (IMG_SIZE, IMG_SIZE))\n",
    "                    training_data.append([new_array, class_num])\n",
    "                except Exception as e:\n",
    "                    pass\n",
    "\n",
    "create_training_data()\n",
    "\n",
    "random.shuffle(training_data)\n",
    "\n",
    "X = [] #features\n",
    "y = [] #labels\n",
    "\n",
    "for features, label in training_data:\n",
    "    X.append(features)\n",
    "    y.append(label)\n",
    "\n",
    "X = np.array(X).reshape(-1, IMG_SIZE, IMG_SIZE, 1)\n",
    "\n",
    "# Creating the files containing all the information about our model\n",
    "pickle_out = open(\"X.pickle\", \"wb\")\n",
    "pickle.dump(X, pickle_out)\n",
    "pickle_out.close()\n",
    "\n",
    "pickle_out = open(\"y.pickle\", \"wb\")\n",
    "pickle.dump(y, pickle_out)\n",
    "pickle_out.close()\n",
    "\n",
    "pickle_in = open(\"X.pickle\", \"rb\")\n",
    "X = pickle.load(pickle_in)\n",
    "\n"
   ]
  },
  {
   "cell_type": "markdown",
   "metadata": {},
   "source": [
    "#### Building the convolutional neural network model and save it as pickle file\n"
   ]
  },
  {
   "cell_type": "code",
   "execution_count": 5,
   "metadata": {},
   "outputs": [
    {
     "name": "stderr",
     "output_type": "stream",
     "text": [
      "Using TensorFlow backend.\n"
     ]
    }
   ],
   "source": [
    "import tensorflow as tf \n",
    "from tensorflow.keras.models import Sequential\n",
    "from tensorflow.keras.layers import Dense, Dropout, Activation, Flatten, Conv2D, MaxPooling2D\n",
    "import pickle\n",
    "from keras.models import model_from_json\n",
    "from keras.models import load_model\n",
    "import matplotlib.pyplot as plt\n",
    "\n",
    "# Opening the files about data\n",
    "X = pickle.load(open(\"X.pickle\", \"rb\"))\n",
    "y = pickle.load(open(\"y.pickle\", \"rb\"))"
   ]
  },
  {
   "cell_type": "code",
   "execution_count": 6,
   "metadata": {},
   "outputs": [
    {
     "name": "stdout",
     "output_type": "stream",
     "text": [
      "WARNING:tensorflow:From /anaconda3/envs/python36/lib/python3.6/site-packages/tensorflow/python/ops/resource_variable_ops.py:435: colocate_with (from tensorflow.python.framework.ops) is deprecated and will be removed in a future version.\n",
      "Instructions for updating:\n",
      "Colocations handled automatically by placer.\n",
      "WARNING:tensorflow:From /anaconda3/envs/python36/lib/python3.6/site-packages/tensorflow/python/keras/layers/core.py:143: calling dropout (from tensorflow.python.ops.nn_ops) with keep_prob is deprecated and will be removed in a future version.\n",
      "Instructions for updating:\n",
      "Please use `rate` instead of `keep_prob`. Rate should be set to `rate = 1 - keep_prob`.\n",
      "Train on 56 samples, validate on 7 samples\n",
      "Epoch 1/40\n",
      "56/56 [==============================] - 1s 14ms/sample - loss: 1.0903 - acc: 0.3571 - val_loss: 1.2342 - val_acc: 0.0000e+00\n",
      "Epoch 2/40\n",
      "56/56 [==============================] - 0s 5ms/sample - loss: 1.0424 - acc: 0.4464 - val_loss: 1.2557 - val_acc: 0.0000e+00\n",
      "Epoch 3/40\n",
      "56/56 [==============================] - 0s 4ms/sample - loss: 1.0531 - acc: 0.4464 - val_loss: 1.1947 - val_acc: 0.1429\n",
      "Epoch 4/40\n",
      "56/56 [==============================] - 0s 5ms/sample - loss: 1.0332 - acc: 0.5179 - val_loss: 1.1322 - val_acc: 0.2857\n",
      "Epoch 5/40\n",
      "56/56 [==============================] - 0s 4ms/sample - loss: 1.0137 - acc: 0.5179 - val_loss: 1.2176 - val_acc: 0.0000e+00\n",
      "Epoch 6/40\n",
      "56/56 [==============================] - 0s 9ms/sample - loss: 0.9967 - acc: 0.4643 - val_loss: 1.1959 - val_acc: 0.1429\n",
      "Epoch 7/40\n",
      "56/56 [==============================] - 0s 6ms/sample - loss: 0.9891 - acc: 0.5179 - val_loss: 1.1400 - val_acc: 0.2857\n",
      "Epoch 8/40\n",
      "56/56 [==============================] - 0s 6ms/sample - loss: 0.9582 - acc: 0.6250 - val_loss: 1.0744 - val_acc: 0.2857\n",
      "Epoch 9/40\n",
      "56/56 [==============================] - 0s 5ms/sample - loss: 0.9154 - acc: 0.5893 - val_loss: 1.0529 - val_acc: 0.2857\n",
      "Epoch 10/40\n",
      "56/56 [==============================] - 0s 5ms/sample - loss: 0.8797 - acc: 0.6429 - val_loss: 0.8729 - val_acc: 0.7143\n",
      "Epoch 11/40\n",
      "56/56 [==============================] - 0s 4ms/sample - loss: 0.8533 - acc: 0.6607 - val_loss: 0.9619 - val_acc: 0.4286\n",
      "Epoch 12/40\n",
      "56/56 [==============================] - 0s 5ms/sample - loss: 0.7654 - acc: 0.6607 - val_loss: 0.6361 - val_acc: 0.7143\n",
      "Epoch 13/40\n",
      "56/56 [==============================] - 0s 4ms/sample - loss: 0.7208 - acc: 0.6964 - val_loss: 0.8156 - val_acc: 0.4286\n",
      "Epoch 14/40\n",
      "56/56 [==============================] - 0s 8ms/sample - loss: 0.6388 - acc: 0.7679 - val_loss: 0.6861 - val_acc: 0.7143\n",
      "Epoch 15/40\n",
      "56/56 [==============================] - 0s 5ms/sample - loss: 0.5916 - acc: 0.7679 - val_loss: 0.4599 - val_acc: 0.8571\n",
      "Epoch 16/40\n",
      "56/56 [==============================] - 0s 4ms/sample - loss: 0.5978 - acc: 0.7321 - val_loss: 0.4460 - val_acc: 0.8571\n",
      "Epoch 17/40\n",
      "56/56 [==============================] - 0s 5ms/sample - loss: 0.5364 - acc: 0.8750 - val_loss: 0.5844 - val_acc: 0.7143\n",
      "Epoch 18/40\n",
      "56/56 [==============================] - 0s 4ms/sample - loss: 0.4791 - acc: 0.8214 - val_loss: 0.3258 - val_acc: 1.0000\n",
      "Epoch 19/40\n",
      "56/56 [==============================] - 0s 5ms/sample - loss: 0.4544 - acc: 0.8571 - val_loss: 0.2641 - val_acc: 0.8571\n",
      "Epoch 20/40\n",
      "56/56 [==============================] - 0s 6ms/sample - loss: 0.4233 - acc: 0.8571 - val_loss: 0.4843 - val_acc: 0.7143\n",
      "Epoch 21/40\n",
      "56/56 [==============================] - 0s 5ms/sample - loss: 0.4848 - acc: 0.8036 - val_loss: 0.4413 - val_acc: 0.8571\n",
      "Epoch 22/40\n",
      "56/56 [==============================] - 0s 5ms/sample - loss: 0.4141 - acc: 0.8571 - val_loss: 0.2306 - val_acc: 1.0000\n",
      "Epoch 23/40\n",
      "56/56 [==============================] - 0s 4ms/sample - loss: 0.4009 - acc: 0.8393 - val_loss: 0.3495 - val_acc: 0.8571\n",
      "Epoch 24/40\n",
      "56/56 [==============================] - 0s 4ms/sample - loss: 0.3573 - acc: 0.9107 - val_loss: 0.4970 - val_acc: 0.7143\n",
      "Epoch 25/40\n",
      "56/56 [==============================] - 0s 4ms/sample - loss: 0.3597 - acc: 0.8929 - val_loss: 0.3712 - val_acc: 0.8571\n",
      "Epoch 26/40\n",
      "56/56 [==============================] - 0s 4ms/sample - loss: 0.3099 - acc: 0.8750 - val_loss: 0.3580 - val_acc: 0.8571\n",
      "Epoch 27/40\n",
      "56/56 [==============================] - 0s 4ms/sample - loss: 0.2466 - acc: 0.9107 - val_loss: 0.4124 - val_acc: 0.7143\n",
      "Epoch 28/40\n",
      "56/56 [==============================] - 0s 4ms/sample - loss: 0.2596 - acc: 0.8929 - val_loss: 0.3849 - val_acc: 0.7143\n",
      "Epoch 29/40\n",
      "56/56 [==============================] - 0s 4ms/sample - loss: 0.3249 - acc: 0.8750 - val_loss: 0.4699 - val_acc: 0.8571\n",
      "Epoch 30/40\n",
      "56/56 [==============================] - 0s 4ms/sample - loss: 0.2480 - acc: 0.9107 - val_loss: 0.3671 - val_acc: 0.8571\n",
      "Epoch 31/40\n",
      "56/56 [==============================] - 0s 4ms/sample - loss: 0.2042 - acc: 0.9107 - val_loss: 0.4523 - val_acc: 0.7143\n",
      "Epoch 32/40\n",
      "56/56 [==============================] - 0s 4ms/sample - loss: 0.1719 - acc: 0.9821 - val_loss: 0.5633 - val_acc: 0.7143\n",
      "Epoch 33/40\n",
      "56/56 [==============================] - 0s 4ms/sample - loss: 0.1781 - acc: 0.9107 - val_loss: 0.4547 - val_acc: 0.8571\n",
      "Epoch 34/40\n",
      "56/56 [==============================] - 0s 4ms/sample - loss: 0.2509 - acc: 0.8929 - val_loss: 0.5545 - val_acc: 0.7143\n",
      "Epoch 35/40\n",
      "56/56 [==============================] - 0s 4ms/sample - loss: 0.1668 - acc: 0.9107 - val_loss: 0.4791 - val_acc: 0.7143\n",
      "Epoch 36/40\n",
      "56/56 [==============================] - 0s 4ms/sample - loss: 0.1969 - acc: 0.8929 - val_loss: 0.5141 - val_acc: 0.7143\n",
      "Epoch 37/40\n",
      "56/56 [==============================] - 0s 4ms/sample - loss: 0.1653 - acc: 0.9643 - val_loss: 0.4017 - val_acc: 0.8571\n",
      "Epoch 38/40\n",
      "56/56 [==============================] - 0s 4ms/sample - loss: 0.1592 - acc: 0.9464 - val_loss: 0.3830 - val_acc: 0.8571\n",
      "Epoch 39/40\n",
      "56/56 [==============================] - 0s 4ms/sample - loss: 0.1742 - acc: 0.9107 - val_loss: 0.4301 - val_acc: 0.8571\n",
      "Epoch 40/40\n",
      "56/56 [==============================] - 0s 4ms/sample - loss: 0.1109 - acc: 0.9464 - val_loss: 0.5549 - val_acc: 0.7143\n",
      "Saved model to disk\n",
      "dict_keys(['loss', 'acc', 'val_loss', 'val_acc'])\n"
     ]
    },
    {
     "data": {
      "text/plain": [
       "<matplotlib.legend.Legend at 0xb34aa5e10>"
      ]
     },
     "execution_count": 6,
     "metadata": {},
     "output_type": "execute_result"
    },
    {
     "data": {
      "image/png": "[encoded data removed]",
      "text/plain": [
       "<Figure size 432x288 with 1 Axes>"
      ]
     },
     "metadata": {
      "needs_background": "light"
     },
     "output_type": "display_data"
    }
   ],
   "source": [
    "# normalizing data (a pixel goes from 0 to 255)\n",
    "X = X/255.0\n",
    "\n",
    "# Building the model\n",
    "model = Sequential()\n",
    "# 3 convolutional layers\n",
    "model.add(Conv2D(32, (3, 3), input_shape = X.shape[1:]))\n",
    "model.add(Activation(\"relu\"))\n",
    "model.add(MaxPooling2D(pool_size=(2,2)))\n",
    "\n",
    "model.add(Conv2D(64, (3, 3)))\n",
    "model.add(Activation(\"relu\"))\n",
    "model.add(MaxPooling2D(pool_size=(2,2)))\n",
    "\n",
    "model.add(Conv2D(64, (3, 3)))\n",
    "model.add(Activation(\"relu\"))\n",
    "model.add(MaxPooling2D(pool_size=(2,2)))\n",
    "model.add(Dropout(0.25))\n",
    "\n",
    "# 2 hidden layers\n",
    "model.add(Flatten())\n",
    "model.add(Dense(128))\n",
    "model.add(Activation(\"relu\"))\n",
    "\n",
    "model.add(Dense(128))\n",
    "model.add(Activation(\"relu\"))\n",
    "\n",
    "# The output layer with 13 neurons, for 13 classes\n",
    "model.add(Dense(3))\n",
    "model.add(Activation(\"softmax\"))\n",
    "\n",
    "# Compiling the model using some basic parameters\n",
    "model.compile(loss=\"sparse_categorical_crossentropy\",\n",
    "                optimizer=\"adam\",\n",
    "                metrics=[\"accuracy\"])\n",
    "\n",
    "# Training the model, with 40 iterations\n",
    "# validation_split corresponds to the percentage of images used for the validation phase compared to all the images\n",
    "history = model.fit(X, y, batch_size=32, epochs=40, validation_split=0.1)\n",
    "\n",
    "# Saving the model\n",
    "model_json = model.to_json()\n",
    "with open(\"model.json\", \"w\") as json_file :\n",
    "    json_file.write(model_json)\n",
    "\n",
    "model.save_weights(\"model.h5\")\n",
    "print(\"Saved model to disk\")\n",
    "\n",
    "model.save('CNN.model')\n",
    "\n",
    "# Printing a graph showing the accuracy changes during the training phase\n",
    "print(history.history.keys())\n",
    "plt.figure(1)\n",
    "plt.plot(history.history['acc'])\n",
    "plt.plot(history.history['val_acc'])\n",
    "plt.title('model accuracy')\n",
    "plt.ylabel('accuracy')\n",
    "plt.xlabel('epoch')\n",
    "plt.legend(['train', 'validation'], loc='upper left')"
   ]
  },
  {
   "cell_type": "markdown",
   "metadata": {},
   "source": [
    "- The model has pretty much good performance:\n",
    "- - Observing the gap between the training and validation plot, we can see that the model has not suffer with overfitting.\n",
    "- - It has an accuracy (*You are right accuracy is not a good measure for classification problem*) 95% on training  and 71% on the validation accuracy. \n",
    "- - Given the small amount of dataset we have used for training the model (only 56 samples on training data is a minimal amount), we can safely say that the model performs pretty decent.\n",
    "- Let's see how the model performs on the additional validation data (the data that the model has never been 'seen' before)."
   ]
  },
  {
   "cell_type": "markdown",
   "metadata": {},
   "source": [
    "#### Predicting an Amharic alphabet name [class]\n"
   ]
  },
  {
   "cell_type": "code",
   "execution_count": 9,
   "metadata": {},
   "outputs": [
    {
     "name": "stdout",
     "output_type": "stream",
     "text": [
      "../data/validation/validate_letter_data/ha 0\n",
      "../data/validation/validate_letter_data/le 1\n",
      "../data/validation/validate_letter_data/me 2\n"
     ]
    }
   ],
   "source": [
    "TESTDATADIR = \"../data/validation/validate_letter_data\"\n",
    "\n",
    "# In this conext ha, le and me are represneted with 0, 1, and 2\n",
    "for category in CATEGORIES :\n",
    "        path = os.path.join(TESTDATADIR, category)\n",
    "        class_num = CATEGORIES.index(category)\n",
    "        print(path, class_num)\n"
   ]
  },
  {
   "cell_type": "markdown",
   "metadata": {},
   "source": [
    "##### Batch testing "
   ]
  },
  {
   "cell_type": "code",
   "execution_count": 13,
   "metadata": {
    "scrolled": false
   },
   "outputs": [
    {
     "name": "stdout",
     "output_type": "stream",
     "text": [
      "   Original ----> Predicted \n",
      "\t Ha (ሀ) ----> Ha (ሀ)\n",
      "\t Ha (ሀ) ----> Ha (ሀ)\n",
      "\t Ha (ሀ) ----> Ha (ሀ)\n",
      "\t Ha (ሀ) ----> Ha (ሀ)\n",
      "\t Ha (ሀ) ----> Ha (ሀ)\n",
      "\t Ha (ሀ) ----> Ha (ሀ)\n",
      "\t Ha (ሀ) ----> Ha (ሀ)\n",
      "\t Ha (ሀ) ----> Ha (ሀ)\n",
      "\t Ha (ሀ) ----> Ha (ሀ)\n",
      "\t Ha (ሀ) ----> Ha (ሀ)\n",
      "\t Ha (ሀ) ----> Ha (ሀ)\n",
      "\t Ha (ሀ) ----> Ha (ሀ)\n",
      "\t Ha (ሀ) ----> Ha (ሀ)\n",
      "\t Ha (ሀ) ----> Ha (ሀ)\n",
      "\t Ha (ሀ) ----> Le (ለ)\n",
      "\t Le (ለ) ----> Le (ለ)\n",
      "\t Le (ለ) ----> Le (ለ)\n",
      "\t Le (ለ) ----> Le (ለ)\n",
      "\t Le (ለ) ----> Le (ለ)\n",
      "\t Le (ለ) ----> Le (ለ)\n",
      "\t Le (ለ) ----> Ha (ሀ)\n",
      "\t Le (ለ) ----> Ha (ሀ)\n",
      "\t Le (ለ) ----> Le (ለ)\n",
      "\t Le (ለ) ----> Le (ለ)\n",
      "\t Le (ለ) ----> Le (ለ)\n",
      "\t Le (ለ) ----> Ha (ሀ)\n",
      "\t Le (ለ) ----> Le (ለ)\n",
      "\t Le (ለ) ----> Le (ለ)\n",
      "\t Le (ለ) ----> Le (ለ)\n",
      "\t Le (ለ) ----> Le (ለ)\n",
      "\t Le (ለ) ----> Le (ለ)\n",
      "\t Me (መ) ----> Le (ለ)\n",
      "\t Me (መ) ----> Me (መ)\n",
      "\t Me (መ) ----> Me (መ)\n",
      "\t Me (መ) ----> Le (ለ)\n",
      "\t Me (መ) ----> Ha (ሀ)\n",
      "\t Me (መ) ----> Ha (ሀ)\n",
      "\t Me (መ) ----> Ha (ሀ)\n",
      "\t Me (መ) ----> Me (መ)\n",
      "\t Me (መ) ----> Ha (ሀ)\n",
      "\t Me (መ) ----> Me (መ)\n",
      "\t Me (መ) ----> Ha (ሀ)\n",
      "\t Me (መ) ----> Le (ለ)\n",
      "\t Me (መ) ----> Me (መ)\n",
      "\t Me (መ) ----> Ha (ሀ)\n",
      "\t Me (መ) ----> Me (መ)\n",
      "\t Me (መ) ----> Me (መ)\n",
      "\t Me (መ) ----> Me (መ)\n",
      "\t Me (መ) ----> Ha (ሀ)\n",
      "\t Me (መ) ----> Me (መ)\n",
      "\t Me (መ) ----> Me (መ)\n"
     ]
    }
   ],
   "source": [
    "\n",
    "CATEGORIES = [\"ha\", \"le\", \"me\"]\n",
    "original_letter = lambda x : \"Ha (ሀ)\" if x ==0 else (\"Le (ለ)\" if x == 1 else \"Me (መ)\")\n",
    "pridicted_letter = lambda x : \"Ha (ሀ)\" if x =='ha' else (\"Le (ለ)\" if x == 'le' else \"Me (መ)\")\n",
    "\n",
    "testing_data = []\n",
    "for category in CATEGORIES :\n",
    "        path = os.path.join(TESTDATADIR, category)\n",
    "        class_num = CATEGORIES.index(category)\n",
    "        for img in os.listdir(path):\n",
    "            try :\n",
    "                new_array=prepare(os.path.join(path, img))\n",
    "                \n",
    "                testing_data.append([new_array, class_num])\n",
    "            except Exception as e:\n",
    "                pass\n",
    "\n",
    "# Test each leter\n",
    "print(\"   Original ----> Predicted \")\n",
    "for image in testing_data:\n",
    "    if image[0] is not None:\n",
    "        prediction = model.predict([image[0]])\n",
    "        prediction = list(prediction[0])\n",
    "        print(\"\\t {} ----> {}\"\\\n",
    "              .format(original_letter(image[1]),\n",
    "                      pridicted_letter(CATEGORIES[prediction.index(max(prediction))])))\n",
    " "
   ]
  },
  {
   "cell_type": "markdown",
   "metadata": {},
   "source": [
    "- Well, as you can see, the model predicted most of the alphabets correctly. \n",
    "- But it has also got confused to identify some of the alphabets images. For instance, when the model wrongly classified one 'Me (መ)' image as 'Ha (ሀ)"
   ]
  },
  {
   "cell_type": "code",
   "execution_count": 14,
   "metadata": {},
   "outputs": [
    {
     "data": {
      "image/jpeg": "[encoded data removed]",
      "text/plain": [
       "<IPython.core.display.Image object>"
      ]
     },
     "execution_count": 14,
     "metadata": {},
     "output_type": "execute_result"
    }
   ],
   "source": [
    "## It turns out the misclassified image is too blurry.\n",
    "TESTDATADIR = \"../data/validation/validate_letter_data/me\"\n",
    "img= \"me15.jpg\" \n",
    "confused_img = os.path.join(TESTDATADIR, img)\n",
    "Image(filename=confused_img) "
   ]
  },
  {
   "cell_type": "markdown",
   "metadata": {},
   "source": [
    "#### To test a single file \n"
   ]
  },
  {
   "cell_type": "code",
   "execution_count": 15,
   "metadata": {},
   "outputs": [
    {
     "name": "stdout",
     "output_type": "stream",
     "text": [
      "Original letter: ha16.jpg\n",
      " Predicted lettter: ha\n"
     ]
    }
   ],
   "source": [
    "import cv2\n",
    "import tensorflow as tf\n",
    "CATEGORIES = [\"ha\", \"le\", \"me\"]\n",
    "def prepare(file):\n",
    "    #print(\"new_array\", file)\n",
    "\n",
    "    IMG_SIZE = 50\n",
    "    if not file.endswith(\".DS_Store\"):\n",
    "        img_array = cv2.imread(file, cv2.IMREAD_GRAYSCALE)\n",
    "        new_array = cv2.resize(img_array, (IMG_SIZE, IMG_SIZE))\n",
    "        return new_array.reshape(-1, IMG_SIZE, IMG_SIZE, 1)\n",
    "\n",
    "model = tf.keras.models.load_model(\"CNN.model\")\n",
    "\n",
    "TESTDATADIR = \"../data/validation/validate_letter_data/ha\"\n",
    "img= \"ha16.jpg\" # You can change your image path\n",
    "\n",
    "image = prepare(os.path.join(TESTDATADIR, img))\n",
    "\n",
    "prediction = model.predict([image])\n",
    "prediction = list(prediction[0])\n",
    "print(\"Original letter: {}\\n Predicted lettter: {}\"\\\n",
    "      .format(img,CATEGORIES[prediction.index(max(prediction))]))\n",
    "\n"
   ]
  },
  {
   "cell_type": "code",
   "execution_count": null,
   "metadata": {},
   "outputs": [],
   "source": []
  }
 ],
 "metadata": {
  "kernelspec": {
   "display_name": "Python 3",
   "language": "python",
   "name": "python3"
  },
  "language_info": {
   "codemirror_mode": {
    "name": "ipython",
    "version": 3
   },
   "file_extension": ".py",
   "mimetype": "text/x-python",
   "name": "python",
   "nbconvert_exporter": "python",
   "pygments_lexer": "ipython3",
   "version": "3.6.8"
  }
 },
 "nbformat": 4,
 "nbformat_minor": 2
}
